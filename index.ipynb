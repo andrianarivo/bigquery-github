{
 "cells": [
  {
   "cell_type": "markdown",
   "id": "87132291-7f7c-4b07-9dca-5fcedda5694d",
   "metadata": {},
   "source": [
    "# Setting Up BigQuery\n",
    "\n",
    "For Anaconda setup, install BigQuery with:\n",
    "```bash\n",
    "conda install conda-forge::google-cloud-bigquery\n",
    "```\n",
    "\n",
    "Then we need to setup Google Cloud SDK for Authentication and Project Quota:\n",
    "```bash\n",
    "brew install --cask google-cloud-sdk\n",
    "gcloud init\n",
    "gcloud auth login\n",
    "gcloud auth application-default login --project=<project-id>\n",
    "gcloud config set project machine-learning-course-452315\n",
    "```\n",
    "\n",
    "Now we need to setup the Project Quota for the BigQuery client:\n",
    "```bash\n",
    "conda env config vars set GOOGLE_CLOUD_PROJECT=<project-id>\n",
    "conda deactivate\n",
    "conda activate base\n",
    "```\n",
    "(Note that we used base for the environment of anaconda, you can change it if you use a different environment -- prod for example)\n",
    "\n",
    "To check if the project is setup, use:\n",
    "```bash\n",
    "echo $GOOGLE_CLOUD_PROJECT\n",
    "```\n",
    "\n",
    "We can now query some dataset !"
   ]
  },
  {
   "cell_type": "code",
   "execution_count": 9,
   "id": "00b9be44-52ef-4a0f-8e63-d00ecb5fe97e",
   "metadata": {},
   "outputs": [],
   "source": [
    "from google.cloud import bigquery\n",
    "\n",
    "client = bigquery.Client()\n",
    "\n",
    "dataset_ref = client.dataset('github_repos', project=\"bigquery-public-data\")\n",
    "\n",
    "tables = list(client.list_tables(dataset_ref))"
   ]
  },
  {
   "cell_type": "markdown",
   "id": "b677c7fd-1e83-4e56-be33-853d60c6d5b3",
   "metadata": {},
   "source": [
    "### We will begin by listing the tables inside of the Dataset.\n",
    "\n",
    "Get the list of tables using the client library, and get a list of tables string using `table_id`."
   ]
  },
  {
   "cell_type": "code",
   "execution_count": 11,
   "id": "a4706f3b-7db7-45c0-98a7-98eee75d267f",
   "metadata": {},
   "outputs": [
    {
     "data": {
      "text/plain": [
       "['commits',\n",
       " 'contents',\n",
       " 'files',\n",
       " 'languages',\n",
       " 'licenses',\n",
       " 'sample_commits',\n",
       " 'sample_contents',\n",
       " 'sample_files',\n",
       " 'sample_repos']"
      ]
     },
     "execution_count": 11,
     "metadata": {},
     "output_type": "execute_result"
    }
   ],
   "source": [
    "[table.table_id for table in tables]"
   ]
  }
 ],
 "metadata": {
  "kernelspec": {
   "display_name": "Python [conda env:base] *",
   "language": "python",
   "name": "conda-base-py"
  },
  "language_info": {
   "codemirror_mode": {
    "name": "ipython",
    "version": 3
   },
   "file_extension": ".py",
   "mimetype": "text/x-python",
   "name": "python",
   "nbconvert_exporter": "python",
   "pygments_lexer": "ipython3",
   "version": "3.12.7"
  }
 },
 "nbformat": 4,
 "nbformat_minor": 5
}
